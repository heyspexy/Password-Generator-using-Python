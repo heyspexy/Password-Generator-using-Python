{
 "cells": [
  {
   "cell_type": "code",
   "execution_count": null,
   "id": "c0e7ce02",
   "metadata": {},
   "outputs": [],
   "source": [
    "import random\n",
    "import string\n",
    "\n",
    "def generate_password(length):\n",
    "    if length < 4:\n",
    "        print(\"Password length should be at least 4 characters.\")\n",
    "        return None\n",
    "        \n",
    "# Prompt the user for the desired password length\n",
    "password_length = int(input(\"Enter the desired length of your password: \"))\n",
    "\n",
    "# Define character sets for a strong password\n",
    "letters = string.ascii_letters\n",
    "digits = string.digits\n",
    "punctuation = string.punctuation\n",
    "\n",
    "# Combine all character sets for password generation\n",
    "all_characters = letters + digits + punctuation\n",
    "\n",
    "# Generate a random password with characters from each set\n",
    "password = \"\".join(random.choice(all_characters) for i in range(password_length))\n",
    "\n",
    "# Ensure at least one character from each set is included\n",
    "while not any(char.islower() for char in password) or \\\n",
    "     not any(char.isupper() for char in password) or \\\n",
    "     not any(char.isdigit() for char in password) or \\\n",
    "     not any(char in punctuation for char in password):\n",
    "   password = \"\".join(random.choice(all_characters) for i in range(password_length))\n",
    "\n",
    "# Display the generated password\n",
    "print(\"Your strong password is:\", password)"
   ]
  }
 ],
 "metadata": {
  "kernelspec": {
   "display_name": "Python 3 (ipykernel)",
   "language": "python",
   "name": "python3"
  },
  "language_info": {
   "codemirror_mode": {
    "name": "ipython",
    "version": 3
   },
   "file_extension": ".py",
   "mimetype": "text/x-python",
   "name": "python",
   "nbconvert_exporter": "python",
   "pygments_lexer": "ipython3",
   "version": "3.11.5"
  }
 },
 "nbformat": 4,
 "nbformat_minor": 5
}
